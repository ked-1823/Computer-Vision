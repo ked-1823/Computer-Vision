{
 "cells": [
  {
   "cell_type": "code",
   "execution_count": 8,
   "id": "9f36261b-5313-460b-a8bf-5c4cdc14f6a1",
   "metadata": {},
   "outputs": [
    {
     "name": "stdout",
     "output_type": "stream",
     "text": [
      "screenshot saved\n"
     ]
    }
   ],
   "source": [
    "import cv2\n",
    "eye_cas=cv2.CascadeClassifier(r\"C:\\Users\\manek\\Downloads\\haarcascade_eye.xml\")\n",
    "face_cas=cv2.CascadeClassifier(r\"C:\\Users\\manek\\Downloads\\haarcascade_frontalface_default.xml\")\n",
    "\n",
    "cap=cv2.VideoCapture(0)\n",
    "frame_count=0\n",
    "while True:\n",
    "    ret,frame=cap.read()\n",
    "    gray=cv2.cvtColor(frame, cv2.COLOR_BGR2GRAY)\n",
    "    faces=face_cas.detectMultiScale(gray,1.1,5)\n",
    "    for (x,y,w,h) in faces:\n",
    "        cv2.rectangle(frame,(x,y), (x+w,y+h),(0,255,0),2)\n",
    "        if len(faces)>=1:\n",
    "            cv2.putText(frame,'face detected',(x,y-20),cv2.FONT_HERSHEY_DUPLEX,0.7,(255,0,0),2)\n",
    "        roi_gray=gray[y:y+h,x:x+w]\n",
    "        roi_color=frame[y:y+h,x:x+w]\n",
    "        eye=eye_cas.detectMultiScale(roi_gray,1.05,30)\n",
    "        for (ex,ey,ew,eh) in eye:\n",
    "            cv2.rectangle(roi_color,(ex,ey),(ex+ew,ey+eh),(255,0,0),3)\n",
    "            if len(eye)>=1:\n",
    "                cv2.putText(frame,'eye detected',(x,y-40),cv2.FONT_HERSHEY_DUPLEX,0.7,(255,200,0),1)\n",
    "    cv2.imshow('face detection',frame)\n",
    "    key=cv2.waitKey(1) & 0xFF\n",
    "    if key==ord(\"q\"):\n",
    "        break\n",
    "    if key==ord('s'):\n",
    "        filename=f'ss_{frame_count}.png'\n",
    "        cv2.imwrite(filename,frame)\n",
    "        print('screenshot saved')\n",
    "        frame_count+=1\n",
    "cap.release()\n",
    "cv2.destroyAllWindows()\n",
    "            \n"
   ]
  },
  {
   "cell_type": "code",
   "execution_count": 9,
   "id": "e92eaf46-7959-45f6-b58e-a7cce776ee9a",
   "metadata": {},
   "outputs": [
    {
     "name": "stdout",
     "output_type": "stream",
     "text": [
      "Screenshot saved at: C:\\Users\\manek\\ss_1.png\n"
     ]
    }
   ],
   "source": [
    "import os\n",
    "\n",
    "filename = f'ss_{frame_count}.png'\n",
    "cv2.imwrite(filename, frame)\n",
    "print(\"Screenshot saved at:\", os.path.abspath(filename))\n"
   ]
  },
  {
   "cell_type": "code",
   "execution_count": null,
   "id": "77c8de43-7a5a-4556-a28f-098581ebc62b",
   "metadata": {},
   "outputs": [],
   "source": []
  }
 ],
 "metadata": {
  "kernelspec": {
   "display_name": "Python 3 (ipykernel)",
   "language": "python",
   "name": "python3"
  },
  "language_info": {
   "codemirror_mode": {
    "name": "ipython",
    "version": 3
   },
   "file_extension": ".py",
   "mimetype": "text/x-python",
   "name": "python",
   "nbconvert_exporter": "python",
   "pygments_lexer": "ipython3",
   "version": "3.12.7"
  }
 },
 "nbformat": 4,
 "nbformat_minor": 5
}
